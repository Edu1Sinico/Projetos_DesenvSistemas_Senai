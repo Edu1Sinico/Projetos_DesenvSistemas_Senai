{
 "cells": [
  {
   "cell_type": "code",
   "execution_count": 10,
   "metadata": {},
   "outputs": [],
   "source": [
    "import requests\n",
    "from urllib import response"
   ]
  },
  {
   "cell_type": "code",
   "execution_count": 11,
   "metadata": {},
   "outputs": [
    {
     "name": "stdout",
     "output_type": "stream",
     "text": [
      "coord\n",
      "weather\n",
      "base\n",
      "main\n",
      "visibility\n",
      "wind\n",
      "clouds\n",
      "dt\n",
      "sys\n",
      "timezone\n",
      "id\n",
      "name\n",
      "cod\n"
     ]
    }
   ],
   "source": [
    "# Exemplo de URL de API para buscar dados (substitua pela sua URL)\n",
    "apiKey = 'b9ebe666087f299f5e2aad3a03d093b6'\n",
    "baseUrl = 'https://api.openweathermap.org/data/2.5/weather'\n",
    "city = input('Informe a Cidade:')\n",
    "url = f'{baseUrl}?q={city}&appid={apiKey}'\n",
    "\n",
    "# Fazer uma requisição GET\n",
    "response = requests.get(url)\n",
    "\n",
    "# Verificar se a requisição foi bem sucedida (código 200)\n",
    "if response.status_code == 200:\n",
    "    data = response.json() # Converter resposta para JSON\n",
    "    for item in data:\n",
    "        print(item)\n",
    "else:\n",
    "    print('Falha na requisição:', response.status_code)"
   ]
  }
 ],
 "metadata": {
  "kernelspec": {
   "display_name": "Python 3",
   "language": "python",
   "name": "python3"
  },
  "language_info": {
   "codemirror_mode": {
    "name": "ipython",
    "version": 3
   },
   "file_extension": ".py",
   "mimetype": "text/x-python",
   "name": "python",
   "nbconvert_exporter": "python",
   "pygments_lexer": "ipython3",
   "version": "3.12.1"
  }
 },
 "nbformat": 4,
 "nbformat_minor": 2
}
