{
 "cells": [
  {
   "cell_type": "code",
   "execution_count": 82,
   "metadata": {},
   "outputs": [],
   "source": [
    "import pandas as pd\n",
    "import matplotlib.pyplot as plt"
   ]
  },
  {
   "cell_type": "code",
   "execution_count": 4,
   "metadata": {},
   "outputs": [],
   "source": [
    "df_supermarket = pd.read_json('supermarket.json')"
   ]
  },
  {
   "cell_type": "code",
   "execution_count": 5,
   "metadata": {},
   "outputs": [
    {
     "name": "stdout",
     "output_type": "stream",
     "text": [
      "<bound method NDFrame.head of                                                lojas\n",
      "0  {'id': 1, 'dados_mensais': [{'mes': 1, 'fatura...\n",
      "1  {'id': 2, 'dados_mensais': [{'mes': 1, 'fatura...\n",
      "2  {'id': 3, 'dados_mensais': [{'mes': 1, 'fatura...\n",
      "3  {'id': 4, 'dados_mensais': [{'mes': 1, 'fatura...\n",
      "4  {'id': 5, 'dados_mensais': [{'mes': 1, 'fatura...>\n"
     ]
    }
   ],
   "source": [
    "print(df_supermarket.head)"
   ]
  },
  {
   "cell_type": "code",
   "execution_count": 6,
   "metadata": {},
   "outputs": [],
   "source": [
    "def extrair_dados_loja_mes(loja_id,mes):\n",
    "    for loja in df_supermarket['lojas']:\n",
    "        if loja['id'] == loja_id:\n",
    "            for dados_mensais in loja['dados_mensais']:\n",
    "                if dados_mensais['mes'] == mes:\n",
    "                    return dados_mensais\n",
    "    return None"
   ]
  },
  {
   "cell_type": "code",
   "execution_count": 7,
   "metadata": {},
   "outputs": [
    {
     "data": {
      "text/plain": [
       "{'mes': 12,\n",
       " 'faturamento': {'higiene_e_saude': 13600,\n",
       "  'limpeza': 19900,\n",
       "  'bebidas': 8100,\n",
       "  'carne_e_laticinios': 4900,\n",
       "  'alimentacao': 5100},\n",
       " 'gastos_funcionarios': 32000,\n",
       " 'despesas_fornecedores': 27000,\n",
       " 'gastos_diversos': 10500}"
      ]
     },
     "execution_count": 7,
     "metadata": {},
     "output_type": "execute_result"
    }
   ],
   "source": [
    "extrair_dados_loja_mes(5,12)"
   ]
  },
  {
   "cell_type": "code",
   "execution_count": 8,
   "metadata": {},
   "outputs": [],
   "source": [
    "def extrair_faturamento_loja_mes(loja_id, mes):\n",
    "    for loja in df_supermarket['lojas']:\n",
    "        if loja['id'] == loja_id:\n",
    "            for dados_mensais in loja['dados_mensais']:\n",
    "                if dados_mensais['mes'] == mes:\n",
    "                    for faturamento in dados_mensais['faturamento']:\n",
    "                        faturamento = sum(dados_mensais['faturamento'].values())\n",
    "                    return faturamento\n",
    "    return None"
   ]
  },
  {
   "cell_type": "code",
   "execution_count": 16,
   "metadata": {},
   "outputs": [
    {
     "name": "stdout",
     "output_type": "stream",
     "text": [
      "Faturamento Mensal: R$ \n"
     ]
    },
    {
     "data": {
      "text/plain": [
       "53800"
      ]
     },
     "execution_count": 16,
     "metadata": {},
     "output_type": "execute_result"
    }
   ],
   "source": [
    "print('Faturamento Mensal: R$ ')\n",
    "extrair_faturamento_loja_mes(1,1)"
   ]
  },
  {
   "cell_type": "code",
   "execution_count": 37,
   "metadata": {},
   "outputs": [],
   "source": [
    "\n",
    "def extrair_faturamento_loja_ano(loja_id):\n",
    "    faturamento_anual = 0\n",
    "    for loja in df_supermarket['lojas']:\n",
    "        if loja['id'] == loja_id:\n",
    "            for dados_mensais in loja['dados_mensais']:\n",
    "                faturamento_anual += sum(dados_mensais['faturamento'].values())\n",
    "            return faturamento_anual\n",
    "    return None"
   ]
  },
  {
   "cell_type": "code",
   "execution_count": 39,
   "metadata": {},
   "outputs": [
    {
     "name": "stdout",
     "output_type": "stream",
     "text": [
      "Faturamento Anual: R$ \n"
     ]
    },
    {
     "data": {
      "text/plain": [
       "644800"
      ]
     },
     "execution_count": 39,
     "metadata": {},
     "output_type": "execute_result"
    }
   ],
   "source": [
    "print('Faturamento Anual: R$ ')\n",
    "extrair_faturamento_loja_ano(1)"
   ]
  },
  {
   "cell_type": "code",
   "execution_count": 43,
   "metadata": {},
   "outputs": [],
   "source": [
    "def extrair_loja_loja_mes(loja_id, mes):\n",
    "    for loja in df_supermarket['lojas']:\n",
    "        if loja['id'] == loja_id:\n",
    "            for dados_mensais in loja['dados_mensais']:\n",
    "                if dados_mensais['mes'] == mes:\n",
    "                    for faturamento in dados_mensais['faturamento']:\n",
    "                        faturamento = sum(dados_mensais['faturamento'].values())\n",
    "                        gastos = dados_mensais['gastos_funcionarios'] + dados_mensais['despesas_fornecedores'] + dados_mensais['gastos_diversos']\n",
    "                        lucro = faturamento - gastos\n",
    "                    return lucro\n",
    "    return None"
   ]
  },
  {
   "cell_type": "code",
   "execution_count": 45,
   "metadata": {},
   "outputs": [
    {
     "name": "stdout",
     "output_type": "stream",
     "text": [
      "Lucro Mensal: R$ \n"
     ]
    },
    {
     "data": {
      "text/plain": [
       "13800"
      ]
     },
     "execution_count": 45,
     "metadata": {},
     "output_type": "execute_result"
    }
   ],
   "source": [
    "print('Lucro Mensal: R$ ')\n",
    "extrair_loja_loja_mes(1,1)"
   ]
  },
  {
   "cell_type": "code",
   "execution_count": 55,
   "metadata": {},
   "outputs": [],
   "source": [
    "\n",
    "def extrair_lucro_loja_ano(loja_id):\n",
    "    lucro_anual = 0\n",
    "    for loja in df_supermarket['lojas']:\n",
    "        if loja['id'] == loja_id:\n",
    "            for dados_mensais in loja['dados_mensais']:\n",
    "                faturamento_mes = sum(dados_mensais['faturamento'].values())\n",
    "                gastos_mes = dados_mensais['gastos_funcionarios'] + dados_mensais['despesas_fornecedores'] + dados_mensais['gastos_diversos']\n",
    "                lucro_anual += (faturamento_mes - gastos_mes)\n",
    "            return lucro_anual\n",
    "    return None"
   ]
  },
  {
   "cell_type": "code",
   "execution_count": 56,
   "metadata": {},
   "outputs": [
    {
     "name": "stdout",
     "output_type": "stream",
     "text": [
      "Lucro Anual: R$ \n"
     ]
    },
    {
     "data": {
      "text/plain": [
       "-54500"
      ]
     },
     "execution_count": 56,
     "metadata": {},
     "output_type": "execute_result"
    }
   ],
   "source": [
    "print('Lucro Anual: R$ ')\n",
    "extrair_lucro_loja_ano(5)"
   ]
  },
  {
   "cell_type": "code",
   "execution_count": 91,
   "metadata": {},
   "outputs": [
    {
     "name": "stdout",
     "output_type": "stream",
     "text": [
      "644800\n",
      "26200\n",
      "643000\n",
      "48400\n",
      "637500\n",
      "-127500\n",
      "633600\n",
      "-88900\n",
      "614500\n",
      "-54500\n"
     ]
    }
   ],
   "source": [
    "for i in range(1,6):\n",
    "    print(extrair_faturamento_loja_ano(i))\n",
    "    print(extrair_lucro_loja_ano(i))"
   ]
  },
  {
   "cell_type": "code",
   "execution_count": 93,
   "metadata": {},
   "outputs": [
    {
     "data": {
      "image/png": "[encoded data removed]",
      "text/plain": [
       "<Figure size 640x480 with 1 Axes>"
      ]
     },
     "metadata": {},
     "output_type": "display_data"
    }
   ],
   "source": [
    "lojas = range (1,6)\n",
    "faturamento = []\n",
    "for i in lojas:\n",
    "    faturamento.append(extrair_faturamento_loja_ano(i))\n",
    "\n",
    "\n",
    "plt.bar(lojas, faturamento)  # Plotar gráfico de barra usando os dados de categorias e valores\n",
    "plt.title('Gráfico de Faturamento Anual dos Mercados')  # Definir título do gráfico\n",
    "plt.xlabel('Lojas')  # Definir rótulo do eixo x\n",
    "plt.ylabel('Faturamento')  # Definir rótulo do eixo y\n",
    "plt.show()  # Mostrar o gráfico"
   ]
  },
  {
   "cell_type": "code",
   "execution_count": 108,
   "metadata": {},
   "outputs": [
    {
     "data": {
      "image/png": "[encoded data removed]",
      "text/plain": [
       "<Figure size 640x480 with 1 Axes>"
      ]
     },
     "metadata": {},
     "output_type": "display_data"
    }
   ],
   "source": [
    "lojas = range (1,6)\n",
    "lucro = []\n",
    "for i in lojas:\n",
    "    lucro.append(extrair_lucro_loja_ano(i))\n",
    "\n",
    "plt.bar(lojas, lucro)  # Plotar gráfico de barra usando os dados de categorias e valores\n",
    "plt.title('Gráfico de Lucro Anual dos Mercados')  # Definir título do gráfico\n",
    "plt.xlabel('Lojas')  # Definir rótulo do eixo x\n",
    "plt.ylabel('Lucro')  # Definir rótulo do eixo y\n",
    "plt.show()  # Mostrar o gráfico"
   ]
  }
 ],
 "metadata": {
  "kernelspec": {
   "display_name": "Python 3",
   "language": "python",
   "name": "python3"
  },
  "language_info": {
   "codemirror_mode": {
    "name": "ipython",
    "version": 3
   },
   "file_extension": ".py",
   "mimetype": "text/x-python",
   "name": "python",
   "nbconvert_exporter": "python",
   "pygments_lexer": "ipython3",
   "version": "3.12.1"
  }
 },
 "nbformat": 4,
 "nbformat_minor": 2
}
